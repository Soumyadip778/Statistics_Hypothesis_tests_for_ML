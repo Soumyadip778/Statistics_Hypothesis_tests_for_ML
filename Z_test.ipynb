{
  "cells": [
    {
      "cell_type": "markdown",
      "metadata": {
        "id": "view-in-github",
        "colab_type": "text"
      },
      "source": [
        "<a href=\"https://colab.research.google.com/github/Soumyadip778/Statistics_Hypothesis_tests_for_ML/blob/main/Z_test.ipynb\" target=\"_parent\"><img src=\"https://colab.research.google.com/assets/colab-badge.svg\" alt=\"Open In Colab\"/></a>"
      ]
    },
    {
      "cell_type": "code",
      "source": [
        "import numpy as np\n",
        "from scipy.stats import norm"
      ],
      "metadata": {
        "id": "a1DZwyA-XULZ"
      },
      "execution_count": null,
      "outputs": []
    },
    {
      "cell_type": "code",
      "source": [
        "sample = np.array([\n",
        "    174.2324, 169.9321, 169.7382, 170.0723, 172.0850, 169.4709,\n",
        "    171.3192, 169.1897, 168.9614, 169.2765, 170.5254, 171.4036,\n",
        "    170.6341, 169.1913, 168.1348, 171.0138, 170.1164, 168.8320,\n",
        "    170.3695, 172.5017, 170.7104, 170.4225, 171.2806, 170.2284,\n",
        "    171.6020, 169.5576, 169.1209, 170.5089, 169.3914, 169.8902,\n",
        "    171.3846, 170.2113, 169.1368, 171.5779, 169.7831 , 178\n",
        "])\n",
        "\n",
        "population_mean = 170\n",
        "population_std = 3\n",
        "alpha = 0.05\n",
        "Samp_mean = np.mean(sample)\n",
        "n = len(sample)"
      ],
      "metadata": {
        "id": "1Aja_tWAdBYl"
      },
      "execution_count": null,
      "outputs": []
    },
    {
      "cell_type": "code",
      "source": [
        "z_value = (Samp_mean - population_mean) / (population_std / np.sqrt(n))"
      ],
      "metadata": {
        "id": "udhi-9a3aksD"
      },
      "execution_count": null,
      "outputs": []
    },
    {
      "cell_type": "code",
      "source": [
        "p_value = 2 * (1 - norm.cdf(abs(z_value)))\n",
        "p_value"
      ],
      "metadata": {
        "colab": {
          "base_uri": "https://localhost:8080/"
        },
        "id": "R3HUMV4vcbEk",
        "outputId": "21f4a89e-66b4-43c0-fcc1-61a072464920"
      },
      "execution_count": null,
      "outputs": [
        {
          "output_type": "execute_result",
          "data": {
            "text/plain": [
              "np.float64(0.2711651371028885)"
            ]
          },
          "metadata": {},
          "execution_count": 65
        }
      ]
    },
    {
      "cell_type": "code",
      "source": [
        "if p_value < alpha:\n",
        "    print(\"Null Hypothesis is Rejected and Alternate Hypothesis is Accepted\")\n",
        "\n",
        "else:\n",
        "    print(\"Null Hypothesis is Accepted\")"
      ],
      "metadata": {
        "colab": {
          "base_uri": "https://localhost:8080/"
        },
        "id": "DKmCSUcOk9nz",
        "outputId": "10ffef72-b744-4f9f-b352-03c59563579d"
      },
      "execution_count": null,
      "outputs": [
        {
          "output_type": "stream",
          "name": "stdout",
          "text": [
            "Null Hypothesis is Accepted\n"
          ]
        }
      ]
    }
  ],
  "metadata": {
    "colab": {
      "provenance": [],
      "include_colab_link": true
    },
    "kernelspec": {
      "display_name": "Python 3",
      "name": "python3"
    }
  },
  "nbformat": 4,
  "nbformat_minor": 0
}