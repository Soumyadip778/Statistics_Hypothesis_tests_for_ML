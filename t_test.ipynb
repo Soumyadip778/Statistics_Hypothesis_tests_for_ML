{
  "cells": [
    {
      "cell_type": "markdown",
      "metadata": {
        "id": "view-in-github",
        "colab_type": "text"
      },
      "source": [
        "<a href=\"https://colab.research.google.com/github/Soumyadip778/Statistics_Hypothesis_tests_for_ML/blob/main/t_test.ipynb\" target=\"_parent\"><img src=\"https://colab.research.google.com/assets/colab-badge.svg\" alt=\"Open In Colab\"/></a>"
      ]
    },
    {
      "cell_type": "code",
      "source": [
        "import numpy as np\n",
        "from scipy import stats"
      ],
      "metadata": {
        "id": "a1DZwyA-XULZ"
      },
      "execution_count": 21,
      "outputs": []
    },
    {
      "cell_type": "code",
      "source": [
        "sample = [172, 174, 168, 169, 171, 173, 175, 170, 169, 172]\n",
        "population_mean = 170\n",
        "Samp_std = np.std(sample , ddof = 1)\n",
        "alpha = 0.05\n",
        "Samp_mean = np.mean(sample)\n",
        "n = len(sample)\n",
        "df = n-1"
      ],
      "metadata": {
        "id": "1Aja_tWAdBYl",
        "colab": {
          "base_uri": "https://localhost:8080/"
        },
        "outputId": "16b1d3e7-06fd-4fc0-9bce-582ed38ae4e4"
      },
      "execution_count": 15,
      "outputs": [
        {
          "output_type": "execute_result",
          "data": {
            "text/plain": [
              "np.float64(171.3)"
            ]
          },
          "metadata": {},
          "execution_count": 15
        }
      ]
    },
    {
      "cell_type": "code",
      "source": [
        "t_stats = (Samp_mean - population_mean)/(Samp_std / np.sqrt(n))"
      ],
      "metadata": {
        "id": "R9WFY6ozz4Oi"
      },
      "execution_count": 17,
      "outputs": []
    },
    {
      "cell_type": "code",
      "source": [
        "p_value = 2 * (1 - stats.t.cdf(abs(t_stats), df))\n",
        "p_value"
      ],
      "metadata": {
        "colab": {
          "base_uri": "https://localhost:8080/"
        },
        "id": "_9ZwHtSJ2iHJ",
        "outputId": "36fdfed3-2ced-4996-9318-0f113ddd407f"
      },
      "execution_count": 24,
      "outputs": [
        {
          "output_type": "execute_result",
          "data": {
            "text/plain": [
              "np.float64(0.10907771593031335)"
            ]
          },
          "metadata": {},
          "execution_count": 24
        }
      ]
    },
    {
      "cell_type": "code",
      "source": [
        "if p_value < alpha:\n",
        "    print(\"Null Hypothesis is Rejected and Alternate Hypothesis is Accepted\")\n",
        "\n",
        "else:\n",
        "    print(\"Null Hypothesis is Accepted\")"
      ],
      "metadata": {
        "colab": {
          "base_uri": "https://localhost:8080/"
        },
        "id": "DKmCSUcOk9nz",
        "outputId": "70b99e30-c095-448e-cc37-680621e74eb8"
      },
      "execution_count": 23,
      "outputs": [
        {
          "output_type": "stream",
          "name": "stdout",
          "text": [
            "Null Hypothesis is Accepted\n"
          ]
        }
      ]
    }
  ],
  "metadata": {
    "colab": {
      "provenance": [],
      "include_colab_link": true
    },
    "kernelspec": {
      "display_name": "Python 3",
      "name": "python3"
    }
  },
  "nbformat": 4,
  "nbformat_minor": 0
}