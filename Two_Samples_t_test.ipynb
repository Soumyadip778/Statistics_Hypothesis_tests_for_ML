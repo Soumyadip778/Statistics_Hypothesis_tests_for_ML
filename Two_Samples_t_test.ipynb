{
  "cells": [
    {
      "cell_type": "markdown",
      "metadata": {
        "id": "view-in-github",
        "colab_type": "text"
      },
      "source": [
        "<a href=\"https://colab.research.google.com/github/Soumyadip778/Statistics_Hypothesis_tests_for_ML/blob/main/Two_Samples_t_test.ipynb\" target=\"_parent\"><img src=\"https://colab.research.google.com/assets/colab-badge.svg\" alt=\"Open In Colab\"/></a>"
      ]
    },
    {
      "cell_type": "code",
      "metadata": {
        "id": "e75da4b2"
      },
      "source": [
        "from scipy import stats\n",
        "import numpy as np"
      ],
      "execution_count": null,
      "outputs": []
    },
    {
      "cell_type": "code",
      "source": [
        "group_A = [85, 88, 90, 92, 87, 85, 89, 91, 86, 88]\n",
        "group_B = [82, 84, 80, 83, 81, 79, 78, 85, 84, 83]\n",
        "alpha = 0.05"
      ],
      "metadata": {
        "id": "PP_D2WgvDCy5"
      },
      "execution_count": 21,
      "outputs": []
    },
    {
      "cell_type": "code",
      "source": [
        "t_stats , p_value = stats.ttest_ind(group_A, group_B , equal_var=False)"
      ],
      "metadata": {
        "id": "zZZ_zXhyGd-b"
      },
      "execution_count": 23,
      "outputs": []
    },
    {
      "cell_type": "code",
      "source": [
        "if p_value < alpha:\n",
        "   print(\"Null Hypothesis is Rejected\")\n",
        "else:\n",
        "   print(\"Null Hypothesis is accepted\")"
      ],
      "metadata": {
        "colab": {
          "base_uri": "https://localhost:8080/"
        },
        "id": "waLMHM0fGya5",
        "outputId": "dd17a19d-3f42-4a94-d855-05233e9a9ce1"
      },
      "execution_count": 24,
      "outputs": [
        {
          "output_type": "stream",
          "name": "stdout",
          "text": [
            "Null Hypothesis is Rejected\n"
          ]
        }
      ]
    },
    {
      "cell_type": "markdown",
      "source": [
        "# By crucial points"
      ],
      "metadata": {
        "id": "UvlEtnYLJa5R"
      }
    },
    {
      "cell_type": "code",
      "source": [
        "#group_A_mean = np.mean(group_A)\n",
        "#group_B_mean = np.mean(group_B)\n",
        "#group_A_std = np.std(group_A , ddof = 1)\n",
        "#group_B_std = np.std(group_B , ddof = 1)\n",
        "#n1 = len(group_A)\n",
        "#n2 = len(group_B)\n",
        "#df = min(n1-1 ,n2-1)"
      ],
      "metadata": {
        "id": "Xo1TX4DpJgk-"
      },
      "execution_count": 28,
      "outputs": []
    }
  ],
  "metadata": {
    "colab": {
      "provenance": [],
      "include_colab_link": true
    },
    "kernelspec": {
      "display_name": "Python 3",
      "name": "python3"
    }
  },
  "nbformat": 4,
  "nbformat_minor": 0
}